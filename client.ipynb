{
 "metadata": {
  "language_info": {
   "codemirror_mode": {
    "name": "ipython",
    "version": 3
   },
   "file_extension": ".py",
   "mimetype": "text/x-python",
   "name": "python",
   "nbconvert_exporter": "python",
   "pygments_lexer": "ipython3",
   "version": "3.6.11-final"
  },
  "orig_nbformat": 2,
  "kernelspec": {
   "name": "Python 3.6.11 64-bit ('python36': conda)",
   "display_name": "Python 3.6.11 64-bit ('python36': conda)",
   "metadata": {
    "interpreter": {
     "hash": "35f5268353ecf4cd6b98b544edf76d3134b261f53d23d80bfb3ef154d5a96eb1"
    }
   }
  }
 },
 "nbformat": 4,
 "nbformat_minor": 2,
 "cells": [
  {
   "cell_type": "code",
   "execution_count": 1,
   "metadata": {},
   "outputs": [],
   "source": [
    "import torch\n",
    "\n",
    "import image\n",
    "\n",
    "IMAGE_PATH = \"./digit.jpg\""
   ]
  },
  {
   "cell_type": "code",
   "execution_count": 2,
   "metadata": {},
   "outputs": [],
   "source": [
    "model = torch.load(\"./model.pkl\")"
   ]
  },
  {
   "cell_type": "code",
   "execution_count": 3,
   "metadata": {},
   "outputs": [],
   "source": [
    "im = image.get_image(image_path=IMAGE_PATH)"
   ]
  },
  {
   "cell_type": "code",
   "execution_count": 4,
   "metadata": {},
   "outputs": [
    {
     "output_type": "execute_result",
     "data": {
      "text/plain": [
       "<PIL.Image.Image image mode=L size=140x140 at 0x24A9171DC88>"
      ],
      "image/png": "[encoded data removed]"
     },
     "metadata": {},
     "execution_count": 4
    }
   ],
   "source": [
    "im.resize((140, 140))"
   ]
  },
  {
   "cell_type": "code",
   "execution_count": 5,
   "metadata": {},
   "outputs": [
    {
     "output_type": "execute_result",
     "data": {
      "text/plain": [
       "       Prob\n",
       "0  0.000117\n",
       "1  0.000642\n",
       "2  0.995450\n",
       "3  0.000180\n",
       "4  0.000018\n",
       "5  0.000008\n",
       "6  0.000000\n",
       "7  0.003529\n",
       "8  0.000002\n",
       "9  0.000054"
      ],
      "text/html": "<div>\n<style scoped>\n    .dataframe tbody tr th:only-of-type {\n        vertical-align: middle;\n    }\n\n    .dataframe tbody tr th {\n        vertical-align: top;\n    }\n\n    .dataframe thead th {\n        text-align: right;\n    }\n</style>\n<table border=\"1\" class=\"dataframe\">\n  <thead>\n    <tr style=\"text-align: right;\">\n      <th></th>\n      <th>Prob</th>\n    </tr>\n  </thead>\n  <tbody>\n    <tr>\n      <th>0</th>\n      <td>0.000117</td>\n    </tr>\n    <tr>\n      <th>1</th>\n      <td>0.000642</td>\n    </tr>\n    <tr>\n      <th>2</th>\n      <td>0.995450</td>\n    </tr>\n    <tr>\n      <th>3</th>\n      <td>0.000180</td>\n    </tr>\n    <tr>\n      <th>4</th>\n      <td>0.000018</td>\n    </tr>\n    <tr>\n      <th>5</th>\n      <td>0.000008</td>\n    </tr>\n    <tr>\n      <th>6</th>\n      <td>0.000000</td>\n    </tr>\n    <tr>\n      <th>7</th>\n      <td>0.003529</td>\n    </tr>\n    <tr>\n      <th>8</th>\n      <td>0.000002</td>\n    </tr>\n    <tr>\n      <th>9</th>\n      <td>0.000054</td>\n    </tr>\n  </tbody>\n</table>\n</div>"
     },
     "metadata": {},
     "execution_count": 5
    }
   ],
   "source": [
    "pred = image.predict(model=model, image=im)\n",
    "pred"
   ]
  },
  {
   "source": [
    "pred.idxmax()[0]"
   ],
   "cell_type": "code",
   "metadata": {},
   "execution_count": 6,
   "outputs": [
    {
     "output_type": "execute_result",
     "data": {
      "text/plain": [
       "2"
      ]
     },
     "metadata": {},
     "execution_count": 6
    }
   ]
  }
 ]
}